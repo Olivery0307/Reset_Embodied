{
 "cells": [
  {
   "cell_type": "code",
   "execution_count": 1,
   "id": "c5d2fe02",
   "metadata": {},
   "outputs": [],
   "source": [
    "import pandas as pd\n",
    "import os"
   ]
  },
  {
   "cell_type": "code",
   "execution_count": 2,
   "id": "99a7beeb",
   "metadata": {},
   "outputs": [],
   "source": [
    "file_name = \"RESET Carpet Scorecards_230710\""
   ]
  },
  {
   "cell_type": "code",
   "execution_count": 3,
   "id": "02233f4f",
   "metadata": {},
   "outputs": [],
   "source": [
    "file_path = f'../data/{file_name}.csv'\n",
    "df = pd.read_csv(file_path,header=2)\n",
    "rows_to_drop = [0, 1, 2, 3, 4]\n",
    "df = df.drop(rows_to_drop)\n",
    "df.rename(columns={df.columns[11]:'CO2(kg)',df.columns[26]:'CO2(ml)',df.columns[73]:'Better than Average',df.columns[75]: 'Rank'}, inplace=True)\n",
    "df = df[['RESET ID','Brand or Association','Series','CO2(kg)','RESET SCORE','CO2(ml)','RC','R','SF','RLF','Known','VOC','TOTAL RESET SCORE','Better than Average','Rank']]\n",
    "df = df.dropna(axis = 0, how = 'any').reset_index(drop=True)\n",
    "df['ImageName'] = df['RESET ID'].str.extract(r'\\((.*?)\\)', expand=False).str.lower().str.replace(' ', '')"
   ]
  },
  {
   "cell_type": "code",
   "execution_count": 4,
   "id": "a76d2f5b",
   "metadata": {},
   "outputs": [],
   "source": [
    "def convert_rank_to_int(rank):\n",
    "    return int(rank[:-2])\n",
    "df['Rank_int'] = df['Rank'].apply(convert_rank_to_int)\n",
    "df = df.sort_values(by='Rank_int')\n",
    "df = df.drop(columns=['Rank_int'])"
   ]
  },
  {
   "cell_type": "code",
   "execution_count": 5,
   "id": "38ecb1a6",
   "metadata": {},
   "outputs": [],
   "source": [
    "image_dir = '../images'\n",
    "image_dirs = [dir for dir in os.listdir(image_dir) if os.path.isdir(os.path.join(image_dir, dir))]\n",
    "image_names = [dir.split('_')[1].lower() for dir in image_dirs]\n",
    "df = df[df['ImageName'].isin(image_names)]#.drop('ImageName',axis = 1)"
   ]
  },
  {
   "cell_type": "code",
   "execution_count": 6,
   "id": "ecbb6433",
   "metadata": {},
   "outputs": [],
   "source": [
    "df.to_csv(\"../data/processed_data.csv\",index=False)"
   ]
  }
 ],
 "metadata": {
  "kernelspec": {
   "display_name": "Python 3 (ipykernel)",
   "language": "python",
   "name": "python3"
  },
  "language_info": {
   "codemirror_mode": {
    "name": "ipython",
    "version": 3
   },
   "file_extension": ".py",
   "mimetype": "text/x-python",
   "name": "python",
   "nbconvert_exporter": "python",
   "pygments_lexer": "ipython3",
   "version": "3.11.4"
  }
 },
 "nbformat": 4,
 "nbformat_minor": 5
}
