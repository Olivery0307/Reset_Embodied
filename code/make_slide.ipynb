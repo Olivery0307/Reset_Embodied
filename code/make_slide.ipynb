{
 "cells": [
  {
   "cell_type": "code",
   "execution_count": 1,
   "id": "22f4740e",
   "metadata": {},
   "outputs": [
    {
     "name": "stdout",
     "output_type": "stream",
     "text": [
      "Requirement already satisfied: python-pptx in /Users/oliveryang/anaconda3/lib/python3.11/site-packages (0.6.23)\r\n",
      "Requirement already satisfied: pillow in /Users/oliveryang/anaconda3/lib/python3.11/site-packages (9.4.0)\r\n",
      "Requirement already satisfied: lxml>=3.1.0 in /Users/oliveryang/anaconda3/lib/python3.11/site-packages (from python-pptx) (4.9.2)\r\n",
      "Requirement already satisfied: XlsxWriter>=0.5.7 in /Users/oliveryang/anaconda3/lib/python3.11/site-packages (from python-pptx) (3.2.0)\r\n"
     ]
    }
   ],
   "source": [
    "!pip install python-pptx pillow "
   ]
  },
  {
   "cell_type": "code",
   "execution_count": 2,
   "id": "9a72ccf6",
   "metadata": {},
   "outputs": [],
   "source": [
    "import pandas as pd\n",
    "from pptx import Presentation\n",
    "from pptx.dml.color import RGBColor\n",
    "from pptx.util import Inches, Pt\n",
    "from pptx.enum.shapes import MSO_SHAPE\n",
    "from pptx.enum.text import PP_ALIGN\n",
    "from pptx.util import Emu"
   ]
  },
  {
   "cell_type": "code",
   "execution_count": 3,
   "id": "e1c3c500",
   "metadata": {},
   "outputs": [],
   "source": [
    "from add_intro import intro_information\n",
    "from add_shapes_textbox import draw_rounder_rectangle,add_textbox, draw_rounded_tf \n",
    "from add_graph import add_scorebar_border,add_score_bar,add_carbon_footprint,add_donut_chart\n",
    "from add_image import get_image_path, image_to_round_rectangle,get_qrcode_image_path"
   ]
  },
  {
   "cell_type": "code",
   "execution_count": 4,
   "id": "2b3818dc",
   "metadata": {},
   "outputs": [],
   "source": [
    "date_en = \"August 7th, 2023\"\n",
    "date_cn = \"2023年8月7日\""
   ]
  },
  {
   "cell_type": "markdown",
   "id": "0a8268db",
   "metadata": {},
   "source": [
    "## Main"
   ]
  },
  {
   "cell_type": "code",
   "execution_count": 5,
   "id": "020c8e3a",
   "metadata": {},
   "outputs": [],
   "source": [
    "# Load the data\n",
    "data = pd.read_csv('../data/processed_data.csv')\n",
    "\n",
    "# Load the PowerPoint presentation template\n",
    "presentation_en = Presentation('../slides/template.pptx')\n",
    "presentation_cn = Presentation('../slides/template.pptx')\n",
    "image_folder = '../images'\n",
    "qrcode_folder = '../images'"
   ]
  },
  {
   "cell_type": "code",
   "execution_count": 6,
   "id": "63bc2a7d",
   "metadata": {},
   "outputs": [],
   "source": [
    "layout1_en = None\n",
    "layout2_en = None\n",
    "layout1_cn = None\n",
    "layout2_cn = None\n",
    "\n",
    "for i, layout in enumerate(presentation_en.slide_layouts):\n",
    "    if layout.name == 'layout1_en':\n",
    "        layout1_en = presentation_en.slide_layouts[i]\n",
    "    elif layout.name == 'layout2_en':\n",
    "        layout2_en = presentation_en.slide_layouts[i]\n",
    "for i, layout in enumerate(presentation_cn.slide_layouts):\n",
    "    if layout.name == 'layout1_cn':\n",
    "        layout1_cn = presentation_cn.slide_layouts[i]\n",
    "    elif layout.name == 'layout2_cn':\n",
    "        layout2_cn = presentation_cn.slide_layouts[i]"
   ]
  },
  {
   "cell_type": "code",
   "execution_count": 7,
   "id": "1a4f8c25",
   "metadata": {},
   "outputs": [],
   "source": [
    "# intro\n",
    "date_idx = 26\n",
    "description_idx = 27\n",
    "product_idx = 25\n",
    "category_idx = 37"
   ]
  },
  {
   "cell_type": "code",
   "execution_count": 8,
   "id": "c2112027",
   "metadata": {},
   "outputs": [
    {
     "name": "stdout",
     "output_type": "stream",
     "text": [
      "Total number of slides created: 44\n"
     ]
    }
   ],
   "source": [
    "# Create slides for each row\n",
    "for index, row in data.iterrows():\n",
    "    if float(row['RESET SCORE'].rstrip(\"%\")) == 100:\n",
    "        layout = layout1_en\n",
    "    else:\n",
    "        layout = layout2_en\n",
    "    \n",
    "    slide = presentation_en.slides.add_slide(layout)\n",
    "    \n",
    "    #title,description and date\n",
    "    intro_information(slide,row,date_en,date_cn,date_idx,description_idx,product_idx,category_idx,language = 'EN')\n",
    " \n",
    "    #score_bar(co2_score, rc, r,sf,known,rlf,voc)\n",
    "    co2_score = int(format(float(row['RESET SCORE'].rstrip(\"%\")),'.0f'))\n",
    "    rc_score = int(format(float(row['RC'].rstrip(\"%\")),'.0f'))\n",
    "    r_score = int(format(float(row['R'].rstrip(\"%\")),'.0f'))\n",
    "    sf_score = int(format(float(row['SF'].rstrip(\"%\")),'.0f'))\n",
    "    known_score = int(format(float(row['Known'].rstrip(\"%\")),'.0f'))\n",
    "    rlf_score = int(format(float(row['RLF'].rstrip(\"%\")),'.0f'))\n",
    "    voc_score = int(format(float(row['VOC'].rstrip(\"%\")),'.0f'))\n",
    "    \n",
    "    score_params = [\n",
    "        (17, RGBColor(0xD4, 0xA5, 0x23),co2_score),\n",
    "        (18, RGBColor(187,198,200), rc_score),\n",
    "        (21, RGBColor(187,198,200), r_score),\n",
    "        (20, RGBColor(187,198,200), sf_score),\n",
    "        (22, RGBColor(193,163,131), known_score),\n",
    "        (34, RGBColor(193,163,131), rlf_score),\n",
    "        (28, RGBColor(193,163,131), rlf_score)]\n",
    "    \n",
    "    for placeholder_index, color, score in score_params:\n",
    "        add_scorebar_border(slide, placeholder_index)\n",
    "        add_score_bar(slide, color, score, placeholder_index)\n",
    "    \n",
    "    #carbon footprint\n",
    "    cf_ml = str(row['CO2(ml)'])\n",
    "    add_carbon_footprint(slide,cf_ml,30)\n",
    "    if layout == layout2_en:\n",
    "        cf_kg = str(row['CO2(kg)'])\n",
    "        add_carbon_footprint(slide,cf_kg,36)\n",
    "        \n",
    "    #rank\n",
    "    rank = str(row['Rank'])[0]\n",
    "    draw_rounded_tf(slide,rank,48,15)\n",
    "    rank_idx = str(row['Rank'])[1:3].upper()\n",
    "    draw_rounded_tf(slide,rank_idx,24,31)\n",
    "    \n",
    "    #better than average\n",
    "    bta = str(format(float(row['Better than Average'].rstrip(\"%\")),'.1f'))\n",
    "    draw_rounded_tf(slide,bta,48,16)\n",
    "        \n",
    "    # total score\n",
    "    score_placeholder = slide.placeholders[24]\n",
    "    score_placeholder.text = str(format(float(row['TOTAL RESET SCORE'].rstrip(\"%\")),'.1f'))\n",
    "    \n",
    "    #donut chart\n",
    "    add_donut_chart(slide,row)\n",
    "    \n",
    "    #image\n",
    "    image_name = row['ImageName']\n",
    "    image_placeholder = slide.placeholders[35]\n",
    "    image_path = get_image_path(image_name, image_folder)\n",
    "    if image_path:\n",
    "        rounded_image = image_to_round_rectangle(image_path)\n",
    "        image_placeholder.insert_picture(rounded_image)\n",
    "    else:\n",
    "        print(f\"Image '{image_name}' not found in '{image_folder}'.\")\n",
    "\n",
    "    #qr code image\n",
    "    qrcode_placeholder = slide.placeholders[12]\n",
    "    qrcode_path = get_qrcode_image_path(image_name, qrcode_folder, \"EN\")\n",
    "    qrcode_placeholder.insert_picture(qrcode_path)\n",
    "\n",
    "\n",
    "# Save the presentation\n",
    "presentation_en.save('../slides/scoreboard_english.pptx')\n",
    "\n",
    "# Check the number of slides created\n",
    "print(f\"Total number of slides created: {len(presentation_en.slides)}\")"
   ]
  },
  {
   "cell_type": "code",
   "execution_count": 9,
   "id": "0e459039",
   "metadata": {},
   "outputs": [
    {
     "name": "stdout",
     "output_type": "stream",
     "text": [
      "Total number of slides created: 44\n"
     ]
    }
   ],
   "source": [
    "for index, row in data.iterrows():\n",
    "    \n",
    "    if float(row['RESET SCORE'].rstrip(\"%\")) == 100:\n",
    "        layout = layout1_cn\n",
    "    else:\n",
    "        layout = layout2_cn\n",
    "    \n",
    "    slide = presentation_cn.slides.add_slide(layout)\n",
    "    \n",
    "    #title,description and date\n",
    "    intro_information(slide,row,date_en,date_cn,date_idx,description_idx,product_idx,category_idx,language = 'CN')\n",
    " \n",
    "    #score_bar(co2_score, rc, r,sf,known,rlf,voc)\n",
    "    co2_score = int(format(float(row['RESET SCORE'].rstrip(\"%\")),'.0f'))\n",
    "    rc_score = int(format(float(row['RC'].rstrip(\"%\")),'.0f'))\n",
    "    r_score = int(format(float(row['R'].rstrip(\"%\")),'.0f'))\n",
    "    sf_score = int(format(float(row['SF'].rstrip(\"%\")),'.0f'))\n",
    "    known_score = int(format(float(row['Known'].rstrip(\"%\")),'.0f'))\n",
    "    rlf_score = int(format(float(row['RLF'].rstrip(\"%\")),'.0f'))\n",
    "    voc_score = int(format(float(row['VOC'].rstrip(\"%\")),'.0f'))\n",
    "    \n",
    "    score_params = [\n",
    "        (17, RGBColor(0xD4, 0xA5, 0x23),co2_score),\n",
    "        (18, RGBColor(187,198,200), rc_score),\n",
    "        (21, RGBColor(187,198,200), r_score),\n",
    "        (20, RGBColor(187,198,200), sf_score),\n",
    "        (22, RGBColor(193,163,131), known_score),\n",
    "        (34, RGBColor(193,163,131), rlf_score),\n",
    "        (28, RGBColor(193,163,131), rlf_score)]\n",
    "    \n",
    "    for placeholder_index, color, score in score_params:\n",
    "        add_scorebar_border(slide, placeholder_index)\n",
    "        add_score_bar(slide, color, score, placeholder_index)\n",
    "    \n",
    "    #carbon footprint\n",
    "    cf_ml = str(row['CO2(ml)'])\n",
    "    add_carbon_footprint(slide,cf_ml,30)\n",
    "    if layout == layout2_cn:\n",
    "        cf_kg = str(row['CO2(kg)'])\n",
    "        add_carbon_footprint(slide,cf_kg,36)\n",
    "        \n",
    "    #rank\n",
    "    rank = str(row['Rank'])[0]\n",
    "    draw_rounded_tf(slide,rank,48,15)\n",
    "    rank_idx = str(row['Rank'])[1:3].upper()\n",
    "    draw_rounded_tf(slide,rank_idx,24,31)\n",
    "    \n",
    "    #better than average\n",
    "    bta = str(format(float(row['Better than Average'].rstrip(\"%\")),'.1f'))\n",
    "    draw_rounded_tf(slide,bta,48,16)\n",
    "        \n",
    "    # total score\n",
    "    score_placeholder = slide.placeholders[24]\n",
    "    score_placeholder.text = str(format(float(row['TOTAL RESET SCORE'].rstrip(\"%\")),'.1f'))\n",
    "    \n",
    "    #donut chart\n",
    "    add_donut_chart(slide,row)\n",
    "    \n",
    "    #image\n",
    "    image_name = row['ImageName']\n",
    "    image_placeholder = slide.placeholders[35]\n",
    "    image_path = get_image_path(image_name, image_folder)\n",
    "    if image_path:\n",
    "        rounded_image = image_to_round_rectangle(image_path)\n",
    "        image_placeholder.insert_picture(rounded_image)\n",
    "    else:\n",
    "        print(f\"Image '{image_name}' not found in '{image_folder}'.\")\n",
    "\n",
    "    #qr code image\n",
    "    qrcode_placeholder = slide.placeholders[12]\n",
    "    qrcode_path = get_qrcode_image_path(image_name, qrcode_folder, \"CN\")\n",
    "    qrcode_placeholder.insert_picture(qrcode_path)\n",
    "\n",
    "\n",
    "# Save the presentation\n",
    "presentation_cn.save('../slides/scoreboard_chinese.pptx')\n",
    "\n",
    "# Check the number of slides created\n",
    "print(f\"Total number of slides created: {len(presentation_en.slides)}\")"
   ]
  }
 ],
 "metadata": {
  "kernelspec": {
   "display_name": "Python 3 (ipykernel)",
   "language": "python",
   "name": "python3"
  },
  "language_info": {
   "codemirror_mode": {
    "name": "ipython",
    "version": 3
   },
   "file_extension": ".py",
   "mimetype": "text/x-python",
   "name": "python",
   "nbconvert_exporter": "python",
   "pygments_lexer": "ipython3",
   "version": "3.11.9"
  }
 },
 "nbformat": 4,
 "nbformat_minor": 5
}
